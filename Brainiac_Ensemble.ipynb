{
  "nbformat": 4,
  "nbformat_minor": 0,
  "metadata": {
    "colab": {
      "name": "Brainiac:Ensemble.ipynb",
      "provenance": [],
      "collapsed_sections": [],
      "include_colab_link": true
    },
    "kernelspec": {
      "name": "python3",
      "display_name": "Python 3"
    },
    "language_info": {
      "name": "python"
    }
  },
  "cells": [
    {
      "cell_type": "markdown",
      "metadata": {
        "id": "view-in-github",
        "colab_type": "text"
      },
      "source": [
        "<a href=\"https://colab.research.google.com/github/DariusTheGeek/Radiant-Earth-Spot-the-Crop-Challenge/blob/main/Brainiac_Ensemble.ipynb\" target=\"_parent\"><img src=\"https://colab.research.google.com/assets/colab-badge.svg\" alt=\"Open In Colab\"/></a>"
      ]
    },
    {
      "cell_type": "code",
      "metadata": {
        "id": "5XcPHquLXoba"
      },
      "source": [
        "# Import Libraries\n",
        "import pandas as pd\n",
        "import numpy as np"
      ],
      "execution_count": 1,
      "outputs": []
    },
    {
      "cell_type": "code",
      "metadata": {
        "id": "K6UuiZ2hYCe4"
      },
      "source": [
        "# Function that creates submission file\n",
        "def sub_creator(mpreds, name): \n",
        "  ss_cols = ['Field ID', 'Crop_Lucerne/Medics', 'Crop_Planted pastures (perennial)', 'Crop_Fallow', 'Crop_Wine grapes', 'Crop_Weeds',\\\n",
        "              'Crop_Small grain grazing', 'Crop_Wheat', 'Crop_Canola',  'Crop_Rooibos']\n",
        "  ss = pd.DataFrame(mpreds, columns = ss_cols[1:])\n",
        "  ss['Field ID'] = catboost['Field ID'].astype(int)\n",
        "  ss = ss[ss_cols]\n",
        "  ss.to_csv(f'{name}.csv', index = False)\n",
        "  ss.head()"
      ],
      "execution_count": 2,
      "outputs": []
    },
    {
      "cell_type": "code",
      "metadata": {
        "id": "06xlb3o6Xutl"
      },
      "source": [
        "# Ensemble pytorch catboost and lightgbm models\n",
        "catboost = pd.read_csv('brainiac_catboost_models.csv')\n",
        "lgbm = pd.read_csv('brainiac_lgbm_models.csv')\n",
        "pytorch = pd.read_csv('brainiac_pytorch_models.csv')\n",
        "\n",
        "ensemble = (((catboost.iloc[:, 1:].values * 0.7) + (lgbm.iloc[:, 1:].values * 0.3))*0.5) + (pytorch.iloc[:, 1:].values * 0.5)\n",
        "sub_creator(ensemble, 'brainiac_final_submission')"
      ],
      "execution_count": 3,
      "outputs": []
    }
  ]
}